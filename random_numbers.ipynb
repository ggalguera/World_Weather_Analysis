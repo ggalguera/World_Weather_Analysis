{
 "cells": [
  {
   "cell_type": "code",
   "execution_count": 1,
   "id": "87b2ae38",
   "metadata": {},
   "outputs": [],
   "source": [
    "# Import the random module.\n",
    "import random"
   ]
  },
  {
   "cell_type": "code",
   "execution_count": 2,
   "id": "bf054c83",
   "metadata": {},
   "outputs": [
    {
     "data": {
      "text/plain": [
       "30"
      ]
     },
     "execution_count": 2,
     "metadata": {},
     "output_type": "execute_result"
    }
   ],
   "source": [
    "random.randint(-90,90)"
   ]
  },
  {
   "cell_type": "code",
   "execution_count": 4,
   "id": "a5bc0a12",
   "metadata": {},
   "outputs": [
    {
     "data": {
      "text/plain": [
       "0.9574555572090956"
      ]
     },
     "execution_count": 4,
     "metadata": {},
     "output_type": "execute_result"
    }
   ],
   "source": [
    "random.random()"
   ]
  },
  {
   "cell_type": "code",
   "execution_count": 5,
   "id": "c4f1f02b",
   "metadata": {},
   "outputs": [],
   "source": [
    "x = 1\n",
    "latitudes = []\n",
    "while x < 11:\n",
    "    random_lat = random.randint(-90, 89) + random.random()\n",
    "    latitudes.append(random_lat)\n",
    "    x += 1"
   ]
  },
  {
   "cell_type": "code",
   "execution_count": 7,
   "id": "8bba6e95",
   "metadata": {},
   "outputs": [
    {
     "data": {
      "text/plain": [
       "-63.751514630435985"
      ]
     },
     "execution_count": 7,
     "metadata": {},
     "output_type": "execute_result"
    }
   ],
   "source": [
    "random.uniform(-90, 90)"
   ]
  },
  {
   "cell_type": "code",
   "execution_count": 9,
   "id": "579fc8d7",
   "metadata": {},
   "outputs": [],
   "source": [
    "# Import the NumPy module.\n",
    "import numpy as np"
   ]
  },
  {
   "cell_type": "code",
   "execution_count": 11,
   "id": "05f6c424",
   "metadata": {},
   "outputs": [
    {
     "data": {
      "text/plain": [
       "array([-35.00788229, -76.84891054,  -2.34856935,  -6.27057589,\n",
       "        13.31859025, -65.21950153, -64.83441921, -87.96846178,\n",
       "       -89.41274561, -20.14979236,  79.19669416, -76.37868307,\n",
       "        -3.04125119,  80.08474366, -16.72597962,  -2.86923418,\n",
       "        57.43401469, -14.74578372,  51.70881927,  76.60663123,\n",
       "       -58.14564879,  32.52944486,  74.54871576, -69.19174361,\n",
       "       -39.223208  ,  -4.09690885,   8.94519314, -50.64722062,\n",
       "       -18.33362335, -83.75758755,  -8.00032702,   5.51350509,\n",
       "       -45.00922124,  39.46100365, -64.6440898 , -71.71119247,\n",
       "       -51.29516289, -61.28440982,  10.59589897,  19.96616306,\n",
       "       -54.4233436 , -14.78868749, -85.0176464 ,  22.16902653,\n",
       "       -69.31239205,  88.67513305, -14.59500848,  -2.38838888,\n",
       "       -64.10360057, -51.40345625])"
      ]
     },
     "execution_count": 11,
     "metadata": {},
     "output_type": "execute_result"
    }
   ],
   "source": [
    "np.random.uniform(-90.000, 90.000, size=50)"
   ]
  },
  {
   "cell_type": "code",
   "execution_count": 12,
   "id": "8c43a0d6",
   "metadata": {},
   "outputs": [],
   "source": [
    "# Import timeit.\n",
    "import timeit"
   ]
  },
  {
   "cell_type": "code",
   "execution_count": 19,
   "id": "d466dec5",
   "metadata": {},
   "outputs": [
    {
     "data": {
      "text/plain": [
       "array([ 40.22266693, -45.18940011,  66.57969878, ...,  47.22241663,\n",
       "       -29.79544798,  64.59094272])"
      ]
     },
     "execution_count": 19,
     "metadata": {},
     "output_type": "execute_result"
    }
   ],
   "source": [
    "np.random.uniform(-90.000, 90.000, size=1500)"
   ]
  },
  {
   "cell_type": "code",
   "execution_count": 17,
   "id": "e2198466",
   "metadata": {},
   "outputs": [
    {
     "name": "stdout",
     "output_type": "stream",
     "text": [
      "836 µs ± 8.32 µs per loop (mean ± std. dev. of 7 runs, 1,000 loops each)\n"
     ]
    }
   ],
   "source": [
    "def latitudes(size):\n",
    "    latitudes = []\n",
    "    x = 0\n",
    "    while x < (size):\n",
    "        random_lat = random.randint(-90, 90) + random.random()\n",
    "        latitudes.append(random_lat)\n",
    "        x += 1\n",
    "    return latitudes\n",
    "# Call the function with 1500.\n",
    "%timeit latitudes(1500)"
   ]
  },
  {
   "cell_type": "code",
   "execution_count": 20,
   "id": "be104497",
   "metadata": {},
   "outputs": [
    {
     "data": {
      "text/plain": [
       "array([ -79.66845164, -130.92160143,  154.67470823, ...,   55.47071233,\n",
       "       -171.83848321,   70.68952905])"
      ]
     },
     "execution_count": 20,
     "metadata": {},
     "output_type": "execute_result"
    }
   ],
   "source": [
    "np.random.uniform(-180.000, 180.000, size=1500)"
   ]
  }
 ],
 "metadata": {
  "kernelspec": {
   "display_name": "PythonData",
   "language": "python",
   "name": "pythondata"
  },
  "language_info": {
   "codemirror_mode": {
    "name": "ipython",
    "version": 3
   },
   "file_extension": ".py",
   "mimetype": "text/x-python",
   "name": "python",
   "nbconvert_exporter": "python",
   "pygments_lexer": "ipython3",
   "version": "3.9.12"
  }
 },
 "nbformat": 4,
 "nbformat_minor": 5
}
