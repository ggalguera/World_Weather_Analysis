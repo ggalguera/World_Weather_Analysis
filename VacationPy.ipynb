{
 "cells": [
  {
   "cell_type": "code",
   "execution_count": 2,
   "id": "c0529b30",
   "metadata": {},
   "outputs": [],
   "source": [
    "# Import the dependencies.\n",
    "import pandas as pd\n",
    "import gmaps\n",
    "import requests\n",
    "# Import the API key.\n",
    "from config import g_key"
   ]
  },
  {
   "cell_type": "code",
   "execution_count": 9,
   "id": "a0f13857",
   "metadata": {},
   "outputs": [
    {
     "data": {
      "text/html": [
       "<div>\n",
       "<style scoped>\n",
       "    .dataframe tbody tr th:only-of-type {\n",
       "        vertical-align: middle;\n",
       "    }\n",
       "\n",
       "    .dataframe tbody tr th {\n",
       "        vertical-align: top;\n",
       "    }\n",
       "\n",
       "    .dataframe thead th {\n",
       "        text-align: right;\n",
       "    }\n",
       "</style>\n",
       "<table border=\"1\" class=\"dataframe\">\n",
       "  <thead>\n",
       "    <tr style=\"text-align: right;\">\n",
       "      <th></th>\n",
       "      <th>City_ID</th>\n",
       "      <th>City</th>\n",
       "      <th>Country</th>\n",
       "      <th>Date</th>\n",
       "      <th>Lat</th>\n",
       "      <th>Lng</th>\n",
       "      <th>Max Temp</th>\n",
       "      <th>Humidity</th>\n",
       "      <th>Cloudiness</th>\n",
       "      <th>Wind Speed</th>\n",
       "    </tr>\n",
       "  </thead>\n",
       "  <tbody>\n",
       "    <tr>\n",
       "      <th>0</th>\n",
       "      <td>0</td>\n",
       "      <td>Jamestown</td>\n",
       "      <td>US</td>\n",
       "      <td>2022-11-05 21:38:26</td>\n",
       "      <td>42.0970</td>\n",
       "      <td>-79.2353</td>\n",
       "      <td>76.59</td>\n",
       "      <td>57</td>\n",
       "      <td>20</td>\n",
       "      <td>14.97</td>\n",
       "    </tr>\n",
       "    <tr>\n",
       "      <th>1</th>\n",
       "      <td>1</td>\n",
       "      <td>Cabo San Lucas</td>\n",
       "      <td>MX</td>\n",
       "      <td>2022-11-05 21:34:05</td>\n",
       "      <td>22.8909</td>\n",
       "      <td>-109.9124</td>\n",
       "      <td>84.06</td>\n",
       "      <td>52</td>\n",
       "      <td>0</td>\n",
       "      <td>11.50</td>\n",
       "    </tr>\n",
       "    <tr>\n",
       "      <th>2</th>\n",
       "      <td>2</td>\n",
       "      <td>Ponta Do Sol</td>\n",
       "      <td>PT</td>\n",
       "      <td>2022-11-05 21:38:26</td>\n",
       "      <td>32.6667</td>\n",
       "      <td>-17.1000</td>\n",
       "      <td>70.72</td>\n",
       "      <td>83</td>\n",
       "      <td>45</td>\n",
       "      <td>4.34</td>\n",
       "    </tr>\n",
       "    <tr>\n",
       "      <th>3</th>\n",
       "      <td>3</td>\n",
       "      <td>Bredasdorp</td>\n",
       "      <td>ZA</td>\n",
       "      <td>2022-11-05 21:38:26</td>\n",
       "      <td>-34.5322</td>\n",
       "      <td>20.0403</td>\n",
       "      <td>62.24</td>\n",
       "      <td>89</td>\n",
       "      <td>98</td>\n",
       "      <td>4.81</td>\n",
       "    </tr>\n",
       "    <tr>\n",
       "      <th>4</th>\n",
       "      <td>4</td>\n",
       "      <td>Saint-Philippe</td>\n",
       "      <td>RE</td>\n",
       "      <td>2022-11-05 21:38:27</td>\n",
       "      <td>-21.3585</td>\n",
       "      <td>55.7679</td>\n",
       "      <td>71.19</td>\n",
       "      <td>80</td>\n",
       "      <td>12</td>\n",
       "      <td>6.67</td>\n",
       "    </tr>\n",
       "  </tbody>\n",
       "</table>\n",
       "</div>"
      ],
      "text/plain": [
       "   City_ID            City Country                 Date      Lat       Lng  \\\n",
       "0        0       Jamestown      US  2022-11-05 21:38:26  42.0970  -79.2353   \n",
       "1        1  Cabo San Lucas      MX  2022-11-05 21:34:05  22.8909 -109.9124   \n",
       "2        2    Ponta Do Sol      PT  2022-11-05 21:38:26  32.6667  -17.1000   \n",
       "3        3      Bredasdorp      ZA  2022-11-05 21:38:26 -34.5322   20.0403   \n",
       "4        4  Saint-Philippe      RE  2022-11-05 21:38:27 -21.3585   55.7679   \n",
       "\n",
       "   Max Temp  Humidity  Cloudiness  Wind Speed  \n",
       "0     76.59        57          20       14.97  \n",
       "1     84.06        52           0       11.50  \n",
       "2     70.72        83          45        4.34  \n",
       "3     62.24        89          98        4.81  \n",
       "4     71.19        80          12        6.67  "
      ]
     },
     "execution_count": 9,
     "metadata": {},
     "output_type": "execute_result"
    }
   ],
   "source": [
    "# Store the CSV you saved created in part one into a DataFrame.\n",
    "city_data_df = pd.read_csv(\"weather_data/cities.csv\")\n",
    "city_data_df.head()"
   ]
  },
  {
   "cell_type": "code",
   "execution_count": 4,
   "id": "bbf1efb8",
   "metadata": {},
   "outputs": [
    {
     "data": {
      "text/plain": [
       "City_ID         int64\n",
       "City           object\n",
       "Country        object\n",
       "Date           object\n",
       "Lat           float64\n",
       "Lng           float64\n",
       "Max Temp      float64\n",
       "Humidity        int64\n",
       "Cloudiness      int64\n",
       "Wind Speed    float64\n",
       "dtype: object"
      ]
     },
     "execution_count": 4,
     "metadata": {},
     "output_type": "execute_result"
    }
   ],
   "source": [
    "city_data_df.dtypes"
   ]
  },
  {
   "cell_type": "code",
   "execution_count": 7,
   "id": "4982a020",
   "metadata": {},
   "outputs": [],
   "source": [
    "# Configure gmaps to use your Google API key.\n",
    "gmaps.configure(api_key=g_key)"
   ]
  },
  {
   "cell_type": "code",
   "execution_count": 13,
   "id": "2f4d0f8f",
   "metadata": {},
   "outputs": [],
   "source": [
    "# Get the maximum temperature.\n",
    "max_temp = city_data_df[\"Max Temp\"]\n",
    "temps = []\n",
    "for temp in max_temp:\n",
    "    temps.append(max(temp, 0))"
   ]
  },
  {
   "cell_type": "code",
   "execution_count": 24,
   "id": "4e69b0df",
   "metadata": {},
   "outputs": [
    {
     "data": {
      "application/vnd.jupyter.widget-view+json": {
       "model_id": "4409aae391fb40b8a7f6b086d4911576",
       "version_major": 2,
       "version_minor": 0
      },
      "text/plain": [
       "Figure(layout=FigureLayout(height='420px'))"
      ]
     },
     "metadata": {},
     "output_type": "display_data"
    }
   ],
   "source": [
    "# Heatmap of temperature\n",
    "# Get the latitude and longitude.\n",
    "locations = city_data_df[[\"Lat\", \"Lng\"]]\n",
    "# Get the maximum temperature.\n",
    "max_temp = city_data_df[\"Max Temp\"]\n",
    "# Assign the figure variable.\n",
    "fig = gmaps.figure()\n",
    "# Assign the heatmap variable.\n",
    "heat_layer = gmaps.heatmap_layer(locations, weights=[max(temp, 0) for temp in max_temp], dissipating=False, max_intensity=300, point_radius=4)\n",
    "# Adjust zoom\n",
    "fig = gmaps.figure(center=(30.0, 31.0), zoom_level=1.5)\n",
    "# Add the heatmap layer.\n",
    "fig.add_layer(heat_layer)\n",
    "# Call the figure to plot the data.\n",
    "fig"
   ]
  },
  {
   "cell_type": "code",
   "execution_count": 25,
   "id": "ed58a662",
   "metadata": {},
   "outputs": [
    {
     "data": {
      "application/vnd.jupyter.widget-view+json": {
       "model_id": "6ff4dcffc1154b58ad2ea6eebd302fc4",
       "version_major": 2,
       "version_minor": 0
      },
      "text/plain": [
       "Figure(layout=FigureLayout(height='420px'))"
      ]
     },
     "metadata": {},
     "output_type": "display_data"
    }
   ],
   "source": [
    "# Heatmap of percent humidity\n",
    "locations = city_data_df[[\"Lat\", \"Lng\"]]\n",
    "humidity = city_data_df[\"Humidity\"]\n",
    "fig = gmaps.figure(center=(30.0, 31.0), zoom_level=1.5)\n",
    "heat_layer = gmaps.heatmap_layer(locations, weights=humidity, dissipating=False, max_intensity=300, point_radius=4)\n",
    "\n",
    "fig.add_layer(heat_layer)\n",
    "# Call the figure to plot the data.\n",
    "fig"
   ]
  },
  {
   "cell_type": "code",
   "execution_count": 27,
   "id": "65461617",
   "metadata": {},
   "outputs": [
    {
     "data": {
      "application/vnd.jupyter.widget-view+json": {
       "model_id": "0605e6eaf46d473c9f629a84b76c58f5",
       "version_major": 2,
       "version_minor": 0
      },
      "text/plain": [
       "Figure(layout=FigureLayout(height='420px'))"
      ]
     },
     "metadata": {},
     "output_type": "display_data"
    }
   ],
   "source": [
    "# Heatmap of percent humidity\n",
    "locations = city_data_df[[\"Lat\", \"Lng\"]]\n",
    "cloudiness = city_data_df[\"Cloudiness\"]\n",
    "fig = gmaps.figure(center=(30.0, 31.0), zoom_level=1.5)\n",
    "heat_layer = gmaps.heatmap_layer(locations, weights=cloudiness, dissipating=False, max_intensity=300, point_radius=4)\n",
    "\n",
    "fig.add_layer(heat_layer)\n",
    "# Call the figure to plot the data.\n",
    "fig"
   ]
  },
  {
   "cell_type": "code",
   "execution_count": 28,
   "id": "9617092a",
   "metadata": {},
   "outputs": [
    {
     "data": {
      "application/vnd.jupyter.widget-view+json": {
       "model_id": "d11f9c5da97e40a6802ba973871e27e7",
       "version_major": 2,
       "version_minor": 0
      },
      "text/plain": [
       "Figure(layout=FigureLayout(height='420px'))"
      ]
     },
     "metadata": {},
     "output_type": "display_data"
    }
   ],
   "source": [
    "# Heatmap of percent humidity\n",
    "locations = city_data_df[[\"Lat\", \"Lng\"]]\n",
    "Wind_Speed = city_data_df[\"Wind Speed\"]\n",
    "fig = gmaps.figure(center=(30.0, 31.0), zoom_level=1.5)\n",
    "heat_layer = gmaps.heatmap_layer(locations, weights=Wind_Speed, dissipating=False, max_intensity=300, point_radius=4)\n",
    "\n",
    "fig.add_layer(heat_layer)\n",
    "# Call the figure to plot the data.\n",
    "fig"
   ]
  },
  {
   "cell_type": "code",
   "execution_count": 29,
   "id": "751bda1a",
   "metadata": {},
   "outputs": [
    {
     "name": "stdout",
     "output_type": "stream",
     "text": [
      "What is the minimum temperature you would like for your trip? 75\n",
      "What is the maximum temperature you would like for your trip? 90\n"
     ]
    }
   ],
   "source": [
    "# Ask the customer to add a minimum and maximum temperature value.\n",
    "min_temp = float(input(\"What is the minimum temperature you would like for your trip? \"))\n",
    "max_temp = float(input(\"What is the maximum temperature you would like for your trip? \"))"
   ]
  },
  {
   "cell_type": "code",
   "execution_count": 30,
   "id": "0bab4a2e",
   "metadata": {},
   "outputs": [
    {
     "data": {
      "text/html": [
       "<div>\n",
       "<style scoped>\n",
       "    .dataframe tbody tr th:only-of-type {\n",
       "        vertical-align: middle;\n",
       "    }\n",
       "\n",
       "    .dataframe tbody tr th {\n",
       "        vertical-align: top;\n",
       "    }\n",
       "\n",
       "    .dataframe thead th {\n",
       "        text-align: right;\n",
       "    }\n",
       "</style>\n",
       "<table border=\"1\" class=\"dataframe\">\n",
       "  <thead>\n",
       "    <tr style=\"text-align: right;\">\n",
       "      <th></th>\n",
       "      <th>City_ID</th>\n",
       "      <th>City</th>\n",
       "      <th>Country</th>\n",
       "      <th>Date</th>\n",
       "      <th>Lat</th>\n",
       "      <th>Lng</th>\n",
       "      <th>Max Temp</th>\n",
       "      <th>Humidity</th>\n",
       "      <th>Cloudiness</th>\n",
       "      <th>Wind Speed</th>\n",
       "    </tr>\n",
       "  </thead>\n",
       "  <tbody>\n",
       "    <tr>\n",
       "      <th>0</th>\n",
       "      <td>0</td>\n",
       "      <td>Jamestown</td>\n",
       "      <td>US</td>\n",
       "      <td>2022-11-05 21:38:26</td>\n",
       "      <td>42.0970</td>\n",
       "      <td>-79.2353</td>\n",
       "      <td>76.59</td>\n",
       "      <td>57</td>\n",
       "      <td>20</td>\n",
       "      <td>14.97</td>\n",
       "    </tr>\n",
       "    <tr>\n",
       "      <th>1</th>\n",
       "      <td>1</td>\n",
       "      <td>Cabo San Lucas</td>\n",
       "      <td>MX</td>\n",
       "      <td>2022-11-05 21:34:05</td>\n",
       "      <td>22.8909</td>\n",
       "      <td>-109.9124</td>\n",
       "      <td>84.06</td>\n",
       "      <td>52</td>\n",
       "      <td>0</td>\n",
       "      <td>11.50</td>\n",
       "    </tr>\n",
       "    <tr>\n",
       "      <th>6</th>\n",
       "      <td>6</td>\n",
       "      <td>Hilo</td>\n",
       "      <td>US</td>\n",
       "      <td>2022-11-05 21:34:04</td>\n",
       "      <td>19.7297</td>\n",
       "      <td>-155.0900</td>\n",
       "      <td>80.33</td>\n",
       "      <td>85</td>\n",
       "      <td>75</td>\n",
       "      <td>5.01</td>\n",
       "    </tr>\n",
       "    <tr>\n",
       "      <th>14</th>\n",
       "      <td>14</td>\n",
       "      <td>Tutoia</td>\n",
       "      <td>BR</td>\n",
       "      <td>2022-11-05 21:38:30</td>\n",
       "      <td>-2.7619</td>\n",
       "      <td>-42.2744</td>\n",
       "      <td>78.01</td>\n",
       "      <td>87</td>\n",
       "      <td>100</td>\n",
       "      <td>7.94</td>\n",
       "    </tr>\n",
       "    <tr>\n",
       "      <th>15</th>\n",
       "      <td>15</td>\n",
       "      <td>Georgetown</td>\n",
       "      <td>MY</td>\n",
       "      <td>2022-11-05 21:38:30</td>\n",
       "      <td>5.4112</td>\n",
       "      <td>100.3354</td>\n",
       "      <td>79.23</td>\n",
       "      <td>92</td>\n",
       "      <td>20</td>\n",
       "      <td>3.44</td>\n",
       "    </tr>\n",
       "    <tr>\n",
       "      <th>16</th>\n",
       "      <td>16</td>\n",
       "      <td>Fredonia</td>\n",
       "      <td>US</td>\n",
       "      <td>2022-11-05 21:34:50</td>\n",
       "      <td>42.4401</td>\n",
       "      <td>-79.3317</td>\n",
       "      <td>78.62</td>\n",
       "      <td>44</td>\n",
       "      <td>40</td>\n",
       "      <td>17.27</td>\n",
       "    </tr>\n",
       "    <tr>\n",
       "      <th>17</th>\n",
       "      <td>17</td>\n",
       "      <td>Kapaa</td>\n",
       "      <td>US</td>\n",
       "      <td>2022-11-05 21:38:31</td>\n",
       "      <td>22.0752</td>\n",
       "      <td>-159.3190</td>\n",
       "      <td>84.18</td>\n",
       "      <td>81</td>\n",
       "      <td>75</td>\n",
       "      <td>16.11</td>\n",
       "    </tr>\n",
       "    <tr>\n",
       "      <th>21</th>\n",
       "      <td>21</td>\n",
       "      <td>Atuona</td>\n",
       "      <td>PF</td>\n",
       "      <td>2022-11-05 21:38:32</td>\n",
       "      <td>-9.8000</td>\n",
       "      <td>-139.0333</td>\n",
       "      <td>77.79</td>\n",
       "      <td>68</td>\n",
       "      <td>39</td>\n",
       "      <td>13.56</td>\n",
       "    </tr>\n",
       "    <tr>\n",
       "      <th>23</th>\n",
       "      <td>23</td>\n",
       "      <td>Hithadhoo</td>\n",
       "      <td>MV</td>\n",
       "      <td>2022-11-05 21:38:33</td>\n",
       "      <td>-0.6000</td>\n",
       "      <td>73.0833</td>\n",
       "      <td>80.73</td>\n",
       "      <td>77</td>\n",
       "      <td>100</td>\n",
       "      <td>9.84</td>\n",
       "    </tr>\n",
       "    <tr>\n",
       "      <th>25</th>\n",
       "      <td>25</td>\n",
       "      <td>Kirakira</td>\n",
       "      <td>SB</td>\n",
       "      <td>2022-11-05 21:38:33</td>\n",
       "      <td>-10.4544</td>\n",
       "      <td>161.9205</td>\n",
       "      <td>84.24</td>\n",
       "      <td>71</td>\n",
       "      <td>38</td>\n",
       "      <td>0.85</td>\n",
       "    </tr>\n",
       "  </tbody>\n",
       "</table>\n",
       "</div>"
      ],
      "text/plain": [
       "    City_ID            City Country                 Date      Lat       Lng  \\\n",
       "0         0       Jamestown      US  2022-11-05 21:38:26  42.0970  -79.2353   \n",
       "1         1  Cabo San Lucas      MX  2022-11-05 21:34:05  22.8909 -109.9124   \n",
       "6         6            Hilo      US  2022-11-05 21:34:04  19.7297 -155.0900   \n",
       "14       14          Tutoia      BR  2022-11-05 21:38:30  -2.7619  -42.2744   \n",
       "15       15      Georgetown      MY  2022-11-05 21:38:30   5.4112  100.3354   \n",
       "16       16        Fredonia      US  2022-11-05 21:34:50  42.4401  -79.3317   \n",
       "17       17           Kapaa      US  2022-11-05 21:38:31  22.0752 -159.3190   \n",
       "21       21          Atuona      PF  2022-11-05 21:38:32  -9.8000 -139.0333   \n",
       "23       23       Hithadhoo      MV  2022-11-05 21:38:33  -0.6000   73.0833   \n",
       "25       25        Kirakira      SB  2022-11-05 21:38:33 -10.4544  161.9205   \n",
       "\n",
       "    Max Temp  Humidity  Cloudiness  Wind Speed  \n",
       "0      76.59        57          20       14.97  \n",
       "1      84.06        52           0       11.50  \n",
       "6      80.33        85          75        5.01  \n",
       "14     78.01        87         100        7.94  \n",
       "15     79.23        92          20        3.44  \n",
       "16     78.62        44          40       17.27  \n",
       "17     84.18        81          75       16.11  \n",
       "21     77.79        68          39       13.56  \n",
       "23     80.73        77         100        9.84  \n",
       "25     84.24        71          38        0.85  "
      ]
     },
     "execution_count": 30,
     "metadata": {},
     "output_type": "execute_result"
    }
   ],
   "source": [
    "# Filter the dataset to find the cities that fit the criteria.\n",
    "preferred_cities_df = city_data_df.loc[(city_data_df[\"Max Temp\"] <= max_temp) & \\\n",
    "                                       (city_data_df[\"Max Temp\"] >= min_temp)]\n",
    "preferred_cities_df.head(10)"
   ]
  },
  {
   "cell_type": "code",
   "execution_count": 31,
   "id": "ae2ac495",
   "metadata": {},
   "outputs": [
    {
     "data": {
      "text/plain": [
       "City_ID       0\n",
       "City          0\n",
       "Country       0\n",
       "Date          0\n",
       "Lat           0\n",
       "Lng           0\n",
       "Max Temp      0\n",
       "Humidity      0\n",
       "Cloudiness    0\n",
       "Wind Speed    0\n",
       "dtype: int64"
      ]
     },
     "execution_count": 31,
     "metadata": {},
     "output_type": "execute_result"
    }
   ],
   "source": [
    "preferred_cities_df.isnull().sum()"
   ]
  },
  {
   "cell_type": "code",
   "execution_count": 32,
   "id": "61ce66de",
   "metadata": {},
   "outputs": [
    {
     "data": {
      "text/plain": [
       "City_ID       160\n",
       "City          160\n",
       "Country       160\n",
       "Date          160\n",
       "Lat           160\n",
       "Lng           160\n",
       "Max Temp      160\n",
       "Humidity      160\n",
       "Cloudiness    160\n",
       "Wind Speed    160\n",
       "dtype: int64"
      ]
     },
     "execution_count": 32,
     "metadata": {},
     "output_type": "execute_result"
    }
   ],
   "source": [
    "preferred_cities_df.count()"
   ]
  },
  {
   "cell_type": "code",
   "execution_count": 34,
   "id": "762d03f5",
   "metadata": {},
   "outputs": [
    {
     "data": {
      "text/plain": [
       "City_ID       160\n",
       "City          160\n",
       "Country       160\n",
       "Date          160\n",
       "Lat           160\n",
       "Lng           160\n",
       "Max Temp      160\n",
       "Humidity      160\n",
       "Cloudiness    160\n",
       "Wind Speed    160\n",
       "dtype: int64"
      ]
     },
     "execution_count": 34,
     "metadata": {},
     "output_type": "execute_result"
    }
   ],
   "source": [
    "preferred_cities_df.notnull().sum()"
   ]
  },
  {
   "cell_type": "code",
   "execution_count": 41,
   "id": "a5f485c6",
   "metadata": {},
   "outputs": [
    {
     "data": {
      "text/html": [
       "<div>\n",
       "<style scoped>\n",
       "    .dataframe tbody tr th:only-of-type {\n",
       "        vertical-align: middle;\n",
       "    }\n",
       "\n",
       "    .dataframe tbody tr th {\n",
       "        vertical-align: top;\n",
       "    }\n",
       "\n",
       "    .dataframe thead th {\n",
       "        text-align: right;\n",
       "    }\n",
       "</style>\n",
       "<table border=\"1\" class=\"dataframe\">\n",
       "  <thead>\n",
       "    <tr style=\"text-align: right;\">\n",
       "      <th></th>\n",
       "      <th>City</th>\n",
       "      <th>Country</th>\n",
       "      <th>Max Temp</th>\n",
       "      <th>Lat</th>\n",
       "      <th>Lng</th>\n",
       "      <th>Hotel Name</th>\n",
       "    </tr>\n",
       "  </thead>\n",
       "  <tbody>\n",
       "    <tr>\n",
       "      <th>0</th>\n",
       "      <td>Jamestown</td>\n",
       "      <td>US</td>\n",
       "      <td>76.59</td>\n",
       "      <td>42.0970</td>\n",
       "      <td>-79.2353</td>\n",
       "      <td></td>\n",
       "    </tr>\n",
       "    <tr>\n",
       "      <th>1</th>\n",
       "      <td>Cabo San Lucas</td>\n",
       "      <td>MX</td>\n",
       "      <td>84.06</td>\n",
       "      <td>22.8909</td>\n",
       "      <td>-109.9124</td>\n",
       "      <td></td>\n",
       "    </tr>\n",
       "    <tr>\n",
       "      <th>6</th>\n",
       "      <td>Hilo</td>\n",
       "      <td>US</td>\n",
       "      <td>80.33</td>\n",
       "      <td>19.7297</td>\n",
       "      <td>-155.0900</td>\n",
       "      <td></td>\n",
       "    </tr>\n",
       "    <tr>\n",
       "      <th>14</th>\n",
       "      <td>Tutoia</td>\n",
       "      <td>BR</td>\n",
       "      <td>78.01</td>\n",
       "      <td>-2.7619</td>\n",
       "      <td>-42.2744</td>\n",
       "      <td></td>\n",
       "    </tr>\n",
       "    <tr>\n",
       "      <th>15</th>\n",
       "      <td>Georgetown</td>\n",
       "      <td>MY</td>\n",
       "      <td>79.23</td>\n",
       "      <td>5.4112</td>\n",
       "      <td>100.3354</td>\n",
       "      <td></td>\n",
       "    </tr>\n",
       "    <tr>\n",
       "      <th>16</th>\n",
       "      <td>Fredonia</td>\n",
       "      <td>US</td>\n",
       "      <td>78.62</td>\n",
       "      <td>42.4401</td>\n",
       "      <td>-79.3317</td>\n",
       "      <td></td>\n",
       "    </tr>\n",
       "    <tr>\n",
       "      <th>17</th>\n",
       "      <td>Kapaa</td>\n",
       "      <td>US</td>\n",
       "      <td>84.18</td>\n",
       "      <td>22.0752</td>\n",
       "      <td>-159.3190</td>\n",
       "      <td></td>\n",
       "    </tr>\n",
       "    <tr>\n",
       "      <th>21</th>\n",
       "      <td>Atuona</td>\n",
       "      <td>PF</td>\n",
       "      <td>77.79</td>\n",
       "      <td>-9.8000</td>\n",
       "      <td>-139.0333</td>\n",
       "      <td></td>\n",
       "    </tr>\n",
       "    <tr>\n",
       "      <th>23</th>\n",
       "      <td>Hithadhoo</td>\n",
       "      <td>MV</td>\n",
       "      <td>80.73</td>\n",
       "      <td>-0.6000</td>\n",
       "      <td>73.0833</td>\n",
       "      <td></td>\n",
       "    </tr>\n",
       "    <tr>\n",
       "      <th>25</th>\n",
       "      <td>Kirakira</td>\n",
       "      <td>SB</td>\n",
       "      <td>84.24</td>\n",
       "      <td>-10.4544</td>\n",
       "      <td>161.9205</td>\n",
       "      <td></td>\n",
       "    </tr>\n",
       "  </tbody>\n",
       "</table>\n",
       "</div>"
      ],
      "text/plain": [
       "              City Country  Max Temp      Lat       Lng Hotel Name\n",
       "0        Jamestown      US     76.59  42.0970  -79.2353           \n",
       "1   Cabo San Lucas      MX     84.06  22.8909 -109.9124           \n",
       "6             Hilo      US     80.33  19.7297 -155.0900           \n",
       "14          Tutoia      BR     78.01  -2.7619  -42.2744           \n",
       "15      Georgetown      MY     79.23   5.4112  100.3354           \n",
       "16        Fredonia      US     78.62  42.4401  -79.3317           \n",
       "17           Kapaa      US     84.18  22.0752 -159.3190           \n",
       "21          Atuona      PF     77.79  -9.8000 -139.0333           \n",
       "23       Hithadhoo      MV     80.73  -0.6000   73.0833           \n",
       "25        Kirakira      SB     84.24 -10.4544  161.9205           "
      ]
     },
     "execution_count": 41,
     "metadata": {},
     "output_type": "execute_result"
    }
   ],
   "source": [
    "# Create DataFrame called hotel_df to store hotel names along with city, country, max temp, and coordinates.\n",
    "hotel_df = preferred_cities_df[[\"City\", \"Country\", \"Max Temp\", \"Lat\", \"Lng\"]].copy()\n",
    "hotel_df[\"Hotel Name\"] = \"\"\n",
    "hotel_df.head(10)"
   ]
  },
  {
   "cell_type": "code",
   "execution_count": 42,
   "id": "3951b08a",
   "metadata": {},
   "outputs": [],
   "source": [
    "# Set parameters to search for a hotel.\n",
    "params = {\n",
    "    \"radius\": 5000,\n",
    "    \"type\": \"lodging\",\n",
    "    \"key\": g_key\n",
    "}"
   ]
  },
  {
   "cell_type": "code",
   "execution_count": 47,
   "id": "b9f731e3",
   "metadata": {},
   "outputs": [
    {
     "name": "stdout",
     "output_type": "stream",
     "text": [
      "Hotel not found... skipping.\n",
      "Hotel not found... skipping.\n",
      "Hotel not found... skipping.\n",
      "Hotel not found... skipping.\n",
      "Hotel not found... skipping.\n",
      "Hotel not found... skipping.\n",
      "Hotel not found... skipping.\n",
      "Hotel not found... skipping.\n",
      "Hotel not found... skipping.\n",
      "Hotel not found... skipping.\n",
      "Hotel not found... skipping.\n",
      "Hotel not found... skipping.\n"
     ]
    }
   ],
   "source": [
    "# Iterate through the DataFrame.\n",
    "for index, row in hotel_df.iterrows():\n",
    "    # Get the latitude and longitude.\n",
    "    lat = row[\"Lat\"]\n",
    "    lng = row[\"Lng\"]\n",
    "\n",
    "    # Add the latitude and longitude to location key for the params dictionary.\n",
    "    params[\"location\"] = f\"{lat},{lng}\"\n",
    "\n",
    "    # Use the search term: \"lodging\" and our latitude and longitude.\n",
    "    base_url = \"https://maps.googleapis.com/maps/api/place/nearbysearch/json\"\n",
    "    # Make request and get the JSON data from the search.\n",
    "    hotels = requests.get(base_url, params=params).json()\n",
    "    # Grab the first hotel from the results and store the name.\n",
    "# Grab the first hotel from the results and store the name.\n",
    "    try:\n",
    "        hotel_df.loc[index, \"Hotel Name\"] = hotels[\"results\"][0][\"name\"]\n",
    "    except (IndexError):\n",
    "        print(\"Hotel not found... skipping.\")"
   ]
  },
  {
   "cell_type": "code",
   "execution_count": 52,
   "id": "d6c461af",
   "metadata": {},
   "outputs": [
    {
     "data": {
      "application/vnd.jupyter.widget-view+json": {
       "model_id": "a82d2116b77c458db99f578e1bbd8fbf",
       "version_major": 2,
       "version_minor": 0
      },
      "text/plain": [
       "Figure(layout=FigureLayout(height='420px'))"
      ]
     },
     "metadata": {},
     "output_type": "display_data"
    }
   ],
   "source": [
    "# Add a heatmap of temperature for the vacation spots and marker for each city.\n",
    "locations = hotel_df[[\"Lat\", \"Lng\"]]\n",
    "max_temp = hotel_df[\"Max Temp\"]\n",
    "\n",
    "fig = gmaps.figure(center=(30.0, 31.0), zoom_level=1.5)\n",
    "heat_layer = gmaps.heatmap_layer(locations, weights=max_temp,\n",
    "             dissipating=False, max_intensity=300, point_radius=4)\n",
    "marker_layer = gmaps.marker_layer(locations, info_box_content=hotel_info)\n",
    "fig.add_layer(heat_layer)\n",
    "fig.add_layer(marker_layer)\n",
    "# Call the figure to plot the data.\n",
    "fig"
   ]
  },
  {
   "cell_type": "code",
   "execution_count": 51,
   "id": "ea96ed52",
   "metadata": {},
   "outputs": [],
   "source": [
    "info_box_template = \"\"\"\n",
    "<dl>\n",
    "<dt>Hotel Name</dt><dd>{Hotel Name}</dd>\n",
    "<dt>City</dt><dd>{City}</dd>\n",
    "<dt>Country</dt><dd>{Country}</dd>\n",
    "<dt>Max Temp</dt><dd>{Max Temp} °F</dd>\n",
    "</dl>\n",
    "\"\"\"\n",
    "# Store the DataFrame Row.\n",
    "hotel_info = [info_box_template.format(**row) for index, row in hotel_df.iterrows()]"
   ]
  }
 ],
 "metadata": {
  "kernelspec": {
   "display_name": "PythonData",
   "language": "python",
   "name": "pythondata"
  },
  "language_info": {
   "codemirror_mode": {
    "name": "ipython",
    "version": 3
   },
   "file_extension": ".py",
   "mimetype": "text/x-python",
   "name": "python",
   "nbconvert_exporter": "python",
   "pygments_lexer": "ipython3",
   "version": "3.9.12"
  }
 },
 "nbformat": 4,
 "nbformat_minor": 5
}
